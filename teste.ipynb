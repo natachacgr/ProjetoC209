{
 "cells": [
  {
   "cell_type": "code",
   "execution_count": null,
   "metadata": {},
   "outputs": [],
   "source": [
    "import numpy as np\n",
    "import cv2 as cv\n",
    "from PIL import Image\n",
    "import matplotlib.pyplot as plt\n",
    "\n",
    "#abrindo a imagem\n",
    "img = Image.open('peixe.jpg')\n",
    "\n",
    "img_np = np.array(img)\n",
    "(l, c, p) = img_np.shape\n",
    "\n",
    "#convertendo a imagem para grayscale\n",
    "img_grayscale = np.zeros(shape=(l, c), dtype=np.uint8)\n",
    "for i in range(l):\n",
    "    for j in range(c):\n",
    "        r = float(img_np[i, j, 0])\n",
    "        g = float(img_np[i, j, 1])\n",
    "        b = float(img_np[i, j, 2])\n",
    "        \n",
    "        img_grayscale[i, j] = 0.2126 * r + 0.7152 * g + 0.0722 * b\n",
    "\n",
    "#convertendo a imagem para binário\n",
    "for a in range(l):\n",
    "    for b in range(c):\n",
    "        if img_grayscale[a, b] > 127:\n",
    "            img_grayscale[a, b] = 255 #setando como pixel branco\n",
    "        else: img_grayscale[a, b] = 0 #setando como pixel preto\n",
    "            \n",
    "#invertendo a imagem            \n",
    "img_not = np.invert(img_grayscale)\n",
    "\n",
    "#ANTI- ALIAS --> BLUR + STRETCH\n",
    "#BLUR:\n",
    "img_cv_mask = cv.GaussianBlur(img_not,(0,0), sigmaX=2, sigmaY=2, borderType = cv.BORDER_DEFAULT)\n",
    "#STRETCH LINEAR:\n",
    "img_cv_mask = (2*(img_cv_mask.astype(np.float32))-255.0).clip(0,255).astype(np.uint8)\n",
    "\n",
    "#colocando a mascara no canal alpha\n",
    "img = cv.cvtColor(img_np, cv.COLOR_BGR2BGRA)\n",
    "img[:, :, 3] = img_cv_mask\n",
    "\n",
    "cv.imwrite(\"teste_nBckgnd.png\", img)\n",
    "cv.imwrite(\"img_gray.jpg\", img_grayscale)\n",
    "cv.imwrite(\"img_not.jpg\", img_not)\n",
    "cv.imwrite(\"img_mask.jpg\", img_cv_mask)\n",
    "plt.imshow(img)"
   ]
  }
 ],
 "metadata": {
  "language_info": {
   "name": "python"
  }
 },
 "nbformat": 4,
 "nbformat_minor": 2
}
